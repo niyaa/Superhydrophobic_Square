{
 "cells": [
  {
   "cell_type": "code",
   "execution_count": 1,
   "id": "91013cd0",
   "metadata": {},
   "outputs": [],
   "source": [
    "import numpy as np\n",
    "import sys, os\n",
    "import subprocess\n"
   ]
  },
  {
   "cell_type": "code",
   "execution_count": null,
   "id": "da26f4de",
   "metadata": {},
   "outputs": [],
   "source": [
    "cwd = os.getcwd()\n",
    "alStart = 1\n",
    "alEnd = 2\n",
    "alSteps = 0.02\n",
    "NalSteps = (alEnd - alStart)/alSteps\n",
    "\n",
    "sStart = 0.75\n",
    "sEnd = 0.1\n",
    "sSteps = 0.05\n",
    "NsSteps = (sStart -sEnd)/sSteps\n",
    "\n",
    "for i in range(0, NalSteps):\n",
    "    alphaValue = alStart + i*alSteps\n",
    "    dirName1 = \"alpha-\"+str(alphaValue)\n",
    "    if not (os.path.exists(os.getcwd()+'/'+str(dirName1))):\n",
    "        os.makedirs(str(dirName1))\n",
    "    os.chdir( os.getcwd()+'/'+str(dirName1) )\n",
    "    cwd1 = os.getcwd()\n",
    "    for j in range(0, NsSteps):\n",
    "        os.chdir(cwd1)\n",
    "        sValue = sStart -j*sSteps\n",
    "        ghb\n",
    "        \n",
    "        \n",
    "    "
   ]
  },
  {
   "cell_type": "code",
   "execution_count": null,
   "id": "e92b703a",
   "metadata": {},
   "outputs": [],
   "source": [
    "sys.path.append('~/');\n",
    "import driveClass \n",
    "        \n",
    "\n",
    "c=driveClass.Case();\n",
    "\n",
    "#alpha \n",
    "alStart = 1; \n",
    "alEnd = 2; \n",
    "alStep = 0.02;\n",
    "\n",
    "#S\n",
    "sStart=0.45; \n",
    "#sigmas\n",
    "siStart= 0; srStart= 0;\n",
    "\n",
    "#Reynolds\n",
    "ReStart = 75; ReStep= 5;\n",
    "\n",
    "#betas\n",
    "lzStart= 17.4;\n",
    "\n",
    "clist=[];\n",
    "\n",
    "\n",
    "driveClass.alphaContin(alStart, alEnd, alStep, sStart, ReStart, lzStart, siStart, srStart, clist, 40 , ReStep);\n"
   ]
  },
  {
   "cell_type": "code",
   "execution_count": null,
   "id": "a812b03b",
   "metadata": {},
   "outputs": [],
   "source": [
    "import subrocess\n"
   ]
  }
 ],
 "metadata": {
  "kernelspec": {
   "display_name": "Python 3",
   "language": "python",
   "name": "python3"
  },
  "language_info": {
   "codemirror_mode": {
    "name": "ipython",
    "version": 3
   },
   "file_extension": ".py",
   "mimetype": "text/x-python",
   "name": "python",
   "nbconvert_exporter": "python",
   "pygments_lexer": "ipython3",
   "version": "3.8.8"
  }
 },
 "nbformat": 4,
 "nbformat_minor": 5
}
