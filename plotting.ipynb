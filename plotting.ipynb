{
 "cells": [
  {
   "cell_type": "code",
   "execution_count": 1,
   "id": "60fbf6fe",
   "metadata": {},
   "outputs": [],
   "source": [
    "import os\n",
    "import numpy as np\n",
    "from glob import *\n"
   ]
  },
  {
   "cell_type": "code",
   "execution_count": 23,
   "id": "ea04dcf6",
   "metadata": {},
   "outputs": [],
   "source": [
    "os.chdir(\"/mnt/hyperion/danirban/data\")"
   ]
  },
  {
   "cell_type": "code",
   "execution_count": 24,
   "id": "00372f83",
   "metadata": {},
   "outputs": [],
   "source": [
    "path = glob(\"alpha-*\")\n"
   ]
  },
  {
   "cell_type": "code",
   "execution_count": 26,
   "id": "65526858",
   "metadata": {},
   "outputs": [
    {
     "name": "stdout",
     "output_type": "stream",
     "text": [
      "['alpha-1.90', 'alpha-1.96', 'alpha-1.02', 'alpha-1.06', 'alpha-1.10', 'alpha-1.14', 'alpha-1.18', 'alpha-1.22', 'alpha-1.26', 'alpha-1.30', 'alpha-1.34', 'alpha-1.38', 'alpha-1.42', 'alpha-1.46', 'alpha-1.50', 'alpha-1.54', 'alpha-1.58', 'alpha-1.62', 'alpha-1.66', 'alpha-1.70', 'alpha-1.74', 'alpha-1.78', 'alpha-1.82', 'alpha-1.86', 'alpha-1.92', 'alpha-1.98', 'alpha-2.00', 'alpha-1.00', 'alpha-1.04', 'alpha-1.08', 'alpha-1.12', 'alpha-1.16', 'alpha-1.20', 'alpha-1.24', 'alpha-1.28', 'alpha-1.32', 'alpha-1.36', 'alpha-1.40', 'alpha-1.44', 'alpha-1.48', 'alpha-1.52', 'alpha-1.56', 'alpha-1.60', 'alpha-1.64', 'alpha-1.68', 'alpha-1.72', 'alpha-1.76', 'alpha-1.80', 'alpha-1.84', 'alpha-1.88', 'alpha-1.94']\n"
     ]
    }
   ],
   "source": [
    "print(path)"
   ]
  },
  {
   "cell_type": "code",
   "execution_count": 6,
   "id": "8cbe72cf",
   "metadata": {},
   "outputs": [
    {
     "data": {
      "text/plain": [
       "'/mnt/hyperion/danirban/data'"
      ]
     },
     "execution_count": 6,
     "metadata": {},
     "output_type": "execute_result"
    }
   ],
   "source": [
    "for i in path:\n",
    "    "
   ]
  },
  {
   "cell_type": "code",
   "execution_count": 7,
   "id": "1f805b33",
   "metadata": {},
   "outputs": [
    {
     "name": "stdout",
     "output_type": "stream",
     "text": [
      "/mnt/hyperion/danirban\n"
     ]
    }
   ],
   "source": [
    "cd .."
   ]
  },
  {
   "cell_type": "code",
   "execution_count": 8,
   "id": "6b45a78f",
   "metadata": {},
   "outputs": [
    {
     "data": {
      "text/plain": [
       "'/mnt/hyperion/danirban'"
      ]
     },
     "execution_count": 8,
     "metadata": {},
     "output_type": "execute_result"
    }
   ],
   "source": [
    "pwd"
   ]
  },
  {
   "cell_type": "code",
   "execution_count": 9,
   "id": "b9c4bfe8",
   "metadata": {},
   "outputs": [
    {
     "name": "stdout",
     "output_type": "stream",
     "text": [
      "/mnt/hyperion\n"
     ]
    }
   ],
   "source": [
    "cd ..\n"
   ]
  },
  {
   "cell_type": "code",
   "execution_count": 10,
   "id": "fd1575c0",
   "metadata": {},
   "outputs": [
    {
     "name": "stdout",
     "output_type": "stream",
     "text": [
      "\u001b[0m\u001b[01;34m501210101466\u001b[0m/   \u001b[01;34mconserver\u001b[0m/      \u001b[01;34mkmarchlewski\u001b[0m/    \u001b[01;34mmpisula\u001b[0m/      \u001b[01;34mshared\u001b[0m/\r\n",
      "\u001b[01;34m501210101595\u001b[0m/   \u001b[01;34mdanirban\u001b[0m/       \u001b[01;34mkrogowski\u001b[0m/       \u001b[01;34mmpocwie\u001b[0m/      \u001b[01;34mskubacki\u001b[0m/\r\n",
      "\u001b[01;34mOPUS16\u001b[0m/         \u001b[01;34mfbandeira\u001b[0m/      \u001b[01;34mkstryczniewicz\u001b[0m/  \u001b[01;34mmremer\u001b[0m/       \u001b[01;34mslurm\u001b[0m/\r\n",
      "\u001b[01;34mSFTP\u001b[0m/           \u001b[01;34mggruszczynski\u001b[0m/  \u001b[01;34mlamuser\u001b[0m/         \u001b[01;34mmrutkowski\u001b[0m/   \u001b[01;34msrislam\u001b[0m/\r\n",
      "\u001b[01;34machelchowski\u001b[0m/   \u001b[01;34mijagodzinska\u001b[0m/   \u001b[01;34mlatis\u001b[0m/           \u001b[01;34mmwyrozebski\u001b[0m/  \u001b[01;34mtjanson\u001b[0m/\r\n",
      "\u001b[01;34makanczug\u001b[0m/       \u001b[01;34mjasz\u001b[0m/           \u001b[01;34mllaniewski\u001b[0m/      \u001b[01;34mnyadav\u001b[0m/       \u001b[01;34mwgryglas\u001b[0m/\r\n",
      "\u001b[01;34makanczugowski\u001b[0m/  \u001b[01;34mjfabisiak\u001b[0m/      \u001b[01;34mmbartosiak\u001b[0m/      \u001b[01;34mpjonak\u001b[0m/       \u001b[01;34mwregulski\u001b[0m/\r\n",
      "\u001b[01;34maprzad\u001b[0m/         \u001b[01;34mjgalecki\u001b[0m/       \u001b[01;34mmdzikowski\u001b[0m/      \u001b[01;34mpszaltys\u001b[0m/     \u001b[01;34mwsadowski\u001b[0m/\r\n",
      "\u001b[01;34marico\u001b[0m/          \u001b[01;34mjmajewski\u001b[0m/      \u001b[01;34mmjarkowski\u001b[0m/      \u001b[01;34mptomulik\u001b[0m/     \u001b[01;34mzrarata\u001b[0m/\r\n",
      "\u001b[01;34marmen\u001b[0m/          \u001b[01;34mkgumowski\u001b[0m/      \u001b[01;34mmklamka\u001b[0m/         \u001b[01;34mrdalewski\u001b[0m/\r\n",
      "\u001b[01;34mb-droid\u001b[0m/        \u001b[01;34mkjablonski\u001b[0m/     \u001b[01;34mmkrause\u001b[0m/         \u001b[01;34msamba\u001b[0m/\r\n",
      "\u001b[01;34mbolszanski\u001b[0m/     \u001b[01;34mkkurec\u001b[0m/         \u001b[01;34mmlaton\u001b[0m/          \u001b[01;34msgepner\u001b[0m/\r\n"
     ]
    }
   ],
   "source": [
    "ls"
   ]
  },
  {
   "cell_type": "code",
   "execution_count": null,
   "id": "f8bfc623",
   "metadata": {},
   "outputs": [],
   "source": []
  }
 ],
 "metadata": {
  "kernelspec": {
   "display_name": "Python 3 (ipykernel)",
   "language": "python",
   "name": "python3"
  },
  "language_info": {
   "codemirror_mode": {
    "name": "ipython",
    "version": 3
   },
   "file_extension": ".py",
   "mimetype": "text/x-python",
   "name": "python",
   "nbconvert_exporter": "python",
   "pygments_lexer": "ipython3",
   "version": "3.9.7"
  }
 },
 "nbformat": 4,
 "nbformat_minor": 5
}
